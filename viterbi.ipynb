{
 "metadata": {
  "name": ""
 },
 "nbformat": 3,
 "nbformat_minor": 0,
 "worksheets": [
  {
   "cells": [
    {
     "cell_type": "code",
     "collapsed": false,
     "input": [
      "from collections import defaultdict\n",
      "import random\n",
      "import pickle\n",
      "\n",
      "import numpy as np\n",
      "import matplotlib.pylab as plt\n",
      "import sys\n",
      "import nltk\n",
      "\n",
      "from sklearn.cross_validation import StratifiedKFold\n",
      "from sklearn.metrics import confusion_matrix\n",
      "from classifier import SoundClassifier\n",
      "\n",
      "import utils"
     ],
     "language": "python",
     "metadata": {},
     "outputs": [
      {
       "output_type": "stream",
       "stream": "stdout",
       "text": [
        "\n"
       ]
      }
     ],
     "prompt_number": 195
    },
    {
     "cell_type": "code",
     "collapsed": false,
     "input": [
      "USE_PCA = False\n",
      "NUM_CHARS = 50\n",
      "PER_CLASS = 100\n",
      "PATCH_TYPES = 120\n",
      "N_PATCHES = 100\n",
      "SEED = 12\n",
      "N_FOLDS = 2\n",
      "\n",
      "data_dir = \"alise\"\n",
      "\n",
      "np.random.seed(SEED)"
     ],
     "language": "python",
     "metadata": {},
     "outputs": [],
     "prompt_number": 97
    },
    {
     "cell_type": "code",
     "collapsed": false,
     "input": [
      "def generate_sentence(test_labels, sentence, n=1):\n",
      "    characters = defaultdict(lambda: list())\n",
      "    for i, label in enumerate(test_labels):\n",
      "        characters[label].append(i)\n",
      "        \n",
      "    sentence = ''.join(c.upper() for c in sentence if str.isalpha(c))\n",
      "    result = []\n",
      "    for i in range(n):\n",
      "        example = []\n",
      "        for c in sentence:\n",
      "            example.append(random.choice(characters[c]))\n",
      "        result.append(example)\n",
      "    return sentence, result"
     ],
     "language": "python",
     "metadata": {},
     "outputs": [],
     "prompt_number": 98
    },
    {
     "cell_type": "code",
     "collapsed": false,
     "input": [
      "data_dict = utils.load_data(data_dir)\n",
      "\n",
      "cm_predictions = []\n",
      "cm_labels = []\n",
      "\n",
      "# Flatten out dictionary to example (X) and label (Y) arrays\n",
      "X = []\n",
      "Y = []\n",
      "for key in data_dict.keys()[:NUM_CHARS]:\n",
      "    for example in data_dict[key][:PER_CLASS]:\n",
      "        X.append(example)\n",
      "        Y.append(key)\n",
      "X = np.array(X)\n",
      "Y = np.array(Y)\n"
     ],
     "language": "python",
     "metadata": {},
     "outputs": [],
     "prompt_number": 99
    },
    {
     "cell_type": "code",
     "collapsed": false,
     "input": [
      "clf = SoundClassifier(patch_types=PATCH_TYPES,\n",
      "                          n_patches=N_PATCHES,\n",
      "                          use_pca=USE_PCA,\n",
      "                          verbose=True)"
     ],
     "language": "python",
     "metadata": {},
     "outputs": [],
     "prompt_number": 100
    },
    {
     "cell_type": "code",
     "collapsed": false,
     "input": [
      "folds = StratifiedKFold(Y, n_folds=N_FOLDS)\n",
      "i, (train, test) = enumerate(folds).next()\n",
      "train = train[:500]"
     ],
     "language": "python",
     "metadata": {},
     "outputs": [],
     "prompt_number": 121
    },
    {
     "cell_type": "code",
     "collapsed": false,
     "input": [
      "Y[train]"
     ],
     "language": "python",
     "metadata": {},
     "outputs": [
      {
       "metadata": {},
       "output_type": "pyout",
       "prompt_number": 203,
       "text": [
        "array(['C', 'C', 'C', 'C', 'C', 'C', 'C', 'C', 'C', 'C', 'C', 'C', 'C',\n",
        "       'C', 'C', 'C', 'C', 'C', 'C', 'C', 'C', 'C', 'C', 'C', 'C', 'B',\n",
        "       'B', 'B', 'B', 'B', 'B', 'B', 'B', 'B', 'B', 'B', 'B', 'B', 'B',\n",
        "       'B', 'B', 'B', 'B', 'B', 'B', 'B', 'B', 'B', 'B', 'B', 'B', 'B',\n",
        "       'E', 'E', 'E', 'E', 'E', 'E', 'E', 'E', 'E', 'E', 'E', 'E', 'E',\n",
        "       'E', 'E', 'E', 'E', 'E', 'E', 'E', 'E', 'E', 'E', 'E', 'E', 'D',\n",
        "       'D', 'D', 'D', 'D', 'D', 'D', 'D', 'D', 'D', 'D', 'D', 'D', 'D',\n",
        "       'D', 'D', 'D', 'D', 'D', 'D', 'D', 'D', 'D', 'D', 'D', 'D', 'G',\n",
        "       'G', 'G', 'G', 'G', 'G', 'G', 'G', 'G', 'G', 'G', 'G', 'G', 'G',\n",
        "       'G', 'G', 'G', 'G', 'G', 'G', 'G', 'G', 'G', 'G', 'G', 'G', 'F',\n",
        "       'F', 'F', 'F', 'F', 'F', 'F', 'F', 'F', 'F', 'F', 'F', 'F', 'F',\n",
        "       'F', 'F', 'F', 'F', 'F', 'F', 'F', 'F', 'F', 'F', 'F', 'F', 'I',\n",
        "       'I', 'I', 'I', 'I', 'I', 'I', 'I', 'I', 'I', 'I', 'I', 'I', 'I',\n",
        "       'I', 'I', 'I', 'I', 'I', 'I', 'I', 'I', 'I', 'I', 'I', 'I', 'H',\n",
        "       'H', 'H', 'H', 'H', 'H', 'H', 'H', 'H', 'H', 'H', 'H', 'H', 'H',\n",
        "       'H', 'H', 'H', 'H', 'H', 'H', 'H', 'H', 'H', 'H', 'H', 'H', 'H',\n",
        "       'K', 'K', 'K', 'K', 'K', 'K', 'K', 'K', 'K', 'K', 'K', 'K', 'K',\n",
        "       'K', 'K', 'K', 'K', 'K', 'K', 'K', 'K', 'K', 'K', 'K', 'K', 'K',\n",
        "       'J', 'J', 'J', 'J', 'J', 'J', 'J', 'J', 'J', 'J', 'J', 'J', 'J',\n",
        "       'J', 'J', 'J', 'J', 'J', 'J', 'J', 'J', 'J', 'J', 'J', 'J', 'J',\n",
        "       'M', 'M', 'M', 'M', 'M', 'M', 'M', 'M', 'M', 'M', 'M', 'M', 'M',\n",
        "       'M', 'M', 'M', 'M', 'M', 'M', 'M', 'M', 'M', 'M', 'M', 'M', 'M',\n",
        "       'M', 'L', 'L', 'L', 'L', 'L', 'L', 'L', 'L', 'L', 'L', 'L', 'L',\n",
        "       'L', 'L', 'L', 'L', 'L', 'L', 'L', 'L', 'L', 'L', 'L', 'L', 'L',\n",
        "       'O', 'O', 'O', 'O', 'O', 'O', 'O', 'O', 'O', 'O', 'O', 'O', 'O',\n",
        "       'O', 'O', 'O', 'O', 'O', 'O', 'O', 'O', 'O', 'O', 'O', 'O', 'O',\n",
        "       'N', 'N', 'N', 'N', 'N', 'N', 'N', 'N', 'N', 'N', 'N', 'N', 'N',\n",
        "       'N', 'N', 'N', 'N', 'N', 'N', 'N', 'N', 'N', 'N', 'N', 'N', 'Q',\n",
        "       'Q', 'Q', 'Q', 'Q', 'Q', 'Q', 'Q', 'Q', 'Q', 'Q', 'Q', 'Q', 'Q',\n",
        "       'Q', 'Q', 'Q', 'Q', 'Q', 'Q', 'Q', 'Q', 'Q', 'Q', 'Q', 'Q', 'Q',\n",
        "       'P', 'P', 'P', 'P', 'P', 'P', 'P', 'P', 'P', 'P', 'P', 'P', 'P',\n",
        "       'P', 'P', 'P', 'P', 'P', 'P', 'P', 'P', 'P', 'P', 'P', 'P', 'P',\n",
        "       'S', 'S', 'S', 'S', 'S', 'S', 'S', 'S', 'S', 'S', 'S', 'S', 'S',\n",
        "       'S', 'S', 'S', 'S', 'S', 'S', 'S', 'S', 'S', 'S', 'S', 'S', 'S',\n",
        "       'R', 'R', 'R', 'R', 'R', 'R', 'R', 'R', 'R', 'R', 'R', 'R', 'R',\n",
        "       'R', 'R', 'R', 'R', 'R', 'R', 'R', 'R', 'R', 'R', 'R', 'R', 'R',\n",
        "       'R', 'U', 'U', 'U', 'U', 'U', 'U', 'U', 'U', 'U', 'U', 'U', 'U',\n",
        "       'U', 'U', 'U', 'U', 'U', 'U', 'U', 'U', 'U', 'U', 'U', 'U', 'U',\n",
        "       'U', 'U', 'T', 'T', 'T', 'T'], \n",
        "      dtype='|S1')"
       ]
      }
     ],
     "prompt_number": 203
    },
    {
     "cell_type": "code",
     "collapsed": false,
     "input": [
      "clf.fit(X[train], Y[train])\n"
     ],
     "language": "python",
     "metadata": {},
     "outputs": [
      {
       "output_type": "stream",
       "stream": "stdout",
       "text": [
        "Creating windows...\n",
        "Clustering patches..."
       ]
      },
      {
       "output_type": "stream",
       "stream": "stdout",
       "text": [
        "\n",
        "Creating histograms..."
       ]
      },
      {
       "output_type": "stream",
       "stream": "stdout",
       "text": [
        "\n",
        "Training classifier..."
       ]
      },
      {
       "output_type": "stream",
       "stream": "stdout",
       "text": [
        "\n"
       ]
      }
     ],
     "prompt_number": 122
    },
    {
     "cell_type": "code",
     "collapsed": false,
     "input": [
      "clf.classifier.classes_"
     ],
     "language": "python",
     "metadata": {},
     "outputs": [
      {
       "metadata": {},
       "output_type": "pyout",
       "prompt_number": 179,
       "text": [
        "array(['B', 'C', 'D', 'E', 'F', 'G', 'H', 'I', 'J', 'K', 'L', 'M', 'N',\n",
        "       'O', 'P', 'Q', 'R', 'S', 'T', 'U'], \n",
        "      dtype='|S1')"
       ]
      }
     ],
     "prompt_number": 179
    },
    {
     "cell_type": "code",
     "collapsed": false,
     "input": [
      "def s2i(s):\n",
      "    a = ord(min(clf.classifier.classes_))\n",
      "    return [ord(c) - a for c in s.upper() if str.isalpha(c)]"
     ],
     "language": "python",
     "metadata": {},
     "outputs": [],
     "prompt_number": 180
    },
    {
     "cell_type": "code",
     "collapsed": false,
     "input": [
      "words = ''.join(s.upper() for s in nltk.corpus.inaugural.raw().upper() if str.isalpha(s))\n",
      "ints = s2i(words)"
     ],
     "language": "python",
     "metadata": {},
     "outputs": [],
     "prompt_number": 181
    },
    {
     "cell_type": "code",
     "collapsed": false,
     "input": [
      "nltk.corpus.inaugural.raw().count(\" \")"
     ],
     "language": "python",
     "metadata": {},
     "outputs": [
      {
       "metadata": {},
       "output_type": "pyout",
       "prompt_number": 186,
       "text": [
        "130710"
       ]
      }
     ],
     "prompt_number": 186
    },
    {
     "cell_type": "code",
     "collapsed": false,
     "input": [
      "def get_probabilities(corpus, alpha=\"ABCDEFGHIJKLMNOPQRSTUVWXYZ\"):\n",
      "    corpus = ''.join([c for c in corpus if c in alpha])\n",
      "    counts = [corpus.count(c) for c in alpha]\n",
      "    start_probs = np.array(counts, dtype=float) / sum(counts)\n",
      "    trans_counts = [[0.1 + corpus.count(\"%s%s\" % (a,b)) for b in alpha] for a in alpha]\n",
      "    trans_probs = np.array([np.array(x, dtype=float)/sum(x) for x in trans_counts])\n",
      "    return (start_probs, trans_probs)\n",
      "\n",
      "start_probs, trans_probs = get_probabilities(words, clf.classifier.classes_)"
     ],
     "language": "python",
     "metadata": {},
     "outputs": [],
     "prompt_number": 182
    },
    {
     "cell_type": "code",
     "collapsed": false,
     "input": [
      "class Viterbi():\n",
      "    def __init__(self, start_probs, trans_probs):\n",
      "        self.trans_probs = np.array(trans_probs)\n",
      "        \n",
      "        # viterbi [t,i] is [probability of being at state i at time t | observations up to t, most likely previous state]\n",
      "        # -1 indicates no previous state\n",
      "        # t=1 indicates the first observation; t=0 indicates start probabilities\n",
      "        self.viterbi = [[[x,-1] for x in start_probs]]\n",
      "    \n",
      "    def observe(self, obs_probs):\n",
      "        # obs_props[i] == P(i|obs)\n",
      "        next_probs = [[0,-1]] * len(self.viterbi[-1])\n",
      "        \n",
      "        for i, (prob_at, _) in enumerate(self.viterbi[-1]):\n",
      "            for j, prob_to in enumerate(self.trans_probs[i,:]):\n",
      "                next_prob = prob_at * prob_to * obs_probs[j]\n",
      "                if next_prob > next_probs[j][0]:\n",
      "                    next_probs[j] = [next_prob, i]\n",
      "                    \n",
      "        # normalize\n",
      "        total = sum(x[0] for x in next_probs)\n",
      "        next_probs = [[i/total, j] for (i,j) in next_probs]\n",
      "        \n",
      "        self.viterbi.append(next_probs)\n",
      "        \n",
      "    def best_path(self):\n",
      "        path = []\n",
      "        \n",
      "        # Find the most recent node of the best path\n",
      "        count = -1 + len(self.viterbi)\n",
      "        i = np.argmax([p for (p,prev) in self.viterbi[count]])  # index of class\n",
      "        (prob, prev) = self.viterbi[count][i]\n",
      "        \n",
      "        while prev != -1:\n",
      "            count -= 1\n",
      "            path = [clf.classifier.classes_[i]] + path\n",
      "            \n",
      "            i = prev\n",
      "            (prob, prev) = self.viterbi[count][i]\n",
      "        \n",
      "        return path"
     ],
     "language": "python",
     "metadata": {},
     "outputs": [],
     "prompt_number": 183
    },
    {
     "cell_type": "code",
     "collapsed": false,
     "input": [
      "sentence, seqs = generate_sentence(Y[test], \"THERE EXIST LETTERS BUT THEY DO NOT SHOW UP HERE GUESS WHICH LETTER I REFER\")\n",
      "seq = seqs[0]\n",
      "print seq\n",
      "\n",
      "print \"Actual         :\", ' '.join(Y[test[seq]])\n",
      "print \"Old prediction :\", ' '.join(clf.predict(X[test[seq]]))\n",
      "print \"New prediction :\", ' '.join(predict2(clf, X[test[seq]]))\n",
      "\n",
      "v = Viterbi(start_probs, trans_probs)\n",
      "for obs in clf.predict_proba(X[test[seq]]):\n",
      "    v.observe(obs)\n",
      "\n",
      "print \"With HMM:       \", ' '.join(v.best_path())\n"
     ],
     "language": "python",
     "metadata": {},
     "outputs": [
      {
       "output_type": "stream",
       "stream": "stdout",
       "text": [
        "[508, 193, 60, 458, 54, 63, 610, 165, 419, 516, 310, 65, 517, 505, 77, 466, 436, 35, 482, 508, 518, 200, 61, 597, 90, 328, 349, 330, 504, 434, 205, 317, 528, 494, 403, 191, 70, 469, 55, 121, 493, 56, 421, 442, 533, 206, 178, 19, 194, 297, 54, 513, 518, 60, 452, 175, 445, 77, 137, 72, 445]\n",
        "Actual         : T H E R E E X I S T L E T T E R S B U T T H E Y D O N O T S H O W U P H E R E G U E S S W H I C H L E T T E R I R E F E R\n",
        "Old prediction :"
       ]
      },
      {
       "output_type": "stream",
       "stream": "stdout",
       "text": [
        " I H E C E E D I S I I E S I E R S B U I I H E I D O N C I S I O H U P H D R G G U E S S G H C C H L E C I E R I R E F E R\n",
        "New prediction : "
       ]
      },
      {
       "output_type": "stream",
       "stream": "stdout",
       "text": [
        "I H E C E E E I S I I E S I E R S B U I I H E I D O N C T S H O J U P H D R G G U E S S J H C C H L E C I E R I R E F E R\n",
        "With HMM:       "
       ]
      },
      {
       "output_type": "stream",
       "stream": "stdout",
       "text": [
        " T H E C E E D I S T H E S H E R S B U R T H E I D O N D I S I O F U T H E R E G U S S S T H E C H E E C H E R E R E F E R\n"
       ]
      }
     ],
     "prompt_number": 202
    },
    {
     "cell_type": "code",
     "collapsed": false,
     "input": [
      "def predict2(self, X):\n",
      "    if X.dtype != object:  # dtype of numpy arrays\n",
      "        raise Exception(\"Predict takes an array of items to classify, not a single item\")\n",
      "    histograms = []\n",
      "    for example in X:\n",
      "        histograms.append(self._create_histogram(example))\n",
      "    histograms = np.array(histograms)\n",
      "    return [self.classifier.classes_[np.argmax(a)] for a in self.classifier.predict_proba(histograms)]"
     ],
     "language": "python",
     "metadata": {},
     "outputs": [],
     "prompt_number": 200
    },
    {
     "cell_type": "code",
     "collapsed": false,
     "input": [],
     "language": "python",
     "metadata": {},
     "outputs": []
    }
   ],
   "metadata": {}
  }
 ]
}