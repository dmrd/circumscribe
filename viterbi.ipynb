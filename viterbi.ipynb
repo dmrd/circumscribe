{
 "metadata": {
  "name": ""
 },
 "nbformat": 3,
 "nbformat_minor": 0,
 "worksheets": [
  {
   "cells": [
    {
     "cell_type": "code",
     "collapsed": false,
     "input": [
      "from collections import defaultdict\n",
      "import random\n",
      "import pickle\n",
      "\n",
      "import numpy as np\n",
      "import matplotlib.pylab as plt\n",
      "import sys\n",
      "import nltk\n",
      "\n",
      "from sklearn.cross_validation import StratifiedKFold\n",
      "from sklearn.metrics import confusion_matrix\n",
      "from classifier import SoundClassifier\n",
      "\n",
      "import utils"
     ],
     "language": "python",
     "metadata": {},
     "outputs": [],
     "prompt_number": 96
    },
    {
     "cell_type": "code",
     "collapsed": false,
     "input": [
      "USE_PCA = False\n",
      "NUM_CHARS = 50\n",
      "PER_CLASS = 100\n",
      "PATCH_TYPES = 120\n",
      "N_PATCHES = 100\n",
      "SEED = 12\n",
      "N_FOLDS = 2\n",
      "\n",
      "data_dir = \"alise\"\n",
      "\n",
      "np.random.seed(SEED)"
     ],
     "language": "python",
     "metadata": {},
     "outputs": [],
     "prompt_number": 97
    },
    {
     "cell_type": "code",
     "collapsed": false,
     "input": [
      "def generate_sentence(test_labels, sentence, n=1):\n",
      "    characters = defaultdict(lambda: list())\n",
      "    for i, label in enumerate(test_labels):\n",
      "        characters[label].append(i)\n",
      "        \n",
      "    sentence = ''.join(c.upper() for c in sentence if str.isalpha(c))\n",
      "    result = []\n",
      "    for i in range(n):\n",
      "        example = []\n",
      "        for c in sentence:\n",
      "            example.append(random.choice(characters[c]))\n",
      "        result.append(example)\n",
      "    return sentence, result"
     ],
     "language": "python",
     "metadata": {},
     "outputs": [],
     "prompt_number": 98
    },
    {
     "cell_type": "code",
     "collapsed": false,
     "input": [
      "data_dict = utils.load_data(data_dir)\n",
      "\n",
      "cm_predictions = []\n",
      "cm_labels = []\n",
      "\n",
      "# Flatten out dictionary to example (X) and label (Y) arrays\n",
      "X = []\n",
      "Y = []\n",
      "for key in data_dict.keys()[:NUM_CHARS]:\n",
      "    for example in data_dict[key][:PER_CLASS]:\n",
      "        X.append(example)\n",
      "        Y.append(key)\n",
      "X = np.array(X)\n",
      "Y = np.array(Y)\n"
     ],
     "language": "python",
     "metadata": {},
     "outputs": [],
     "prompt_number": 99
    },
    {
     "cell_type": "code",
     "collapsed": false,
     "input": [
      "clf = SoundClassifier(patch_types=PATCH_TYPES,\n",
      "                          n_patches=N_PATCHES,\n",
      "                          use_pca=USE_PCA,\n",
      "                          verbose=True)"
     ],
     "language": "python",
     "metadata": {},
     "outputs": [],
     "prompt_number": 100
    },
    {
     "cell_type": "code",
     "collapsed": false,
     "input": [
      "folds = StratifiedKFold(Y, n_folds=N_FOLDS)\n",
      "i, (train, test) = enumerate(folds).next()\n",
      "train = train[:500]"
     ],
     "language": "python",
     "metadata": {},
     "outputs": [],
     "prompt_number": 121
    },
    {
     "cell_type": "code",
     "collapsed": false,
     "input": [
      "clf.fit(X[train], Y[train])\n"
     ],
     "language": "python",
     "metadata": {},
     "outputs": [
      {
       "output_type": "stream",
       "stream": "stdout",
       "text": [
        "Creating windows...\n",
        "Clustering patches..."
       ]
      },
      {
       "output_type": "stream",
       "stream": "stdout",
       "text": [
        "\n",
        "Creating histograms..."
       ]
      },
      {
       "output_type": "stream",
       "stream": "stdout",
       "text": [
        "\n",
        "Training classifier..."
       ]
      },
      {
       "output_type": "stream",
       "stream": "stdout",
       "text": [
        "\n"
       ]
      }
     ],
     "prompt_number": 122
    },
    {
     "cell_type": "code",
     "collapsed": false,
     "input": [
      "clf.classifier.classes_"
     ],
     "language": "python",
     "metadata": {},
     "outputs": [
      {
       "metadata": {},
       "output_type": "pyout",
       "prompt_number": 123,
       "text": [
        "array(['B', 'C', 'D', 'E', 'F', 'G', 'H', 'I', 'J', 'K', 'L', 'M', 'N',\n",
        "       'O', 'P', 'Q', 'R', 'S', 'T', 'U'], \n",
        "      dtype='|S1')"
       ]
      }
     ],
     "prompt_number": 123
    },
    {
     "cell_type": "code",
     "collapsed": false,
     "input": [
      "def s2i(s):\n",
      "    a = ord(min(clf.classifier.classes_))\n",
      "    return [ord(c) - a for c in s.upper() if str.isalpha(c)]"
     ],
     "language": "python",
     "metadata": {},
     "outputs": [],
     "prompt_number": 125
    },
    {
     "cell_type": "code",
     "collapsed": false,
     "input": [
      "words = ''.join(s.upper() for s in nltk.corpus.inaugural.words()[0:1000] if str.isalpha(s))\n",
      "ints = s2i(words)"
     ],
     "language": "python",
     "metadata": {},
     "outputs": [],
     "prompt_number": 126
    },
    {
     "cell_type": "code",
     "collapsed": false,
     "input": [
      "def get_probabilities(corpus, alpha=\"ABCDEFGHIJKLMNOPQRSTUVWXYZ\"):\n",
      "    corpus = ''.join([c for c in corpus if c in alpha])\n",
      "    counts = [corpus.count(c) for c in alpha]\n",
      "    start_probs = np.array(counts, dtype=float) / sum(counts)\n",
      "    trans_counts = [[0.1 + corpus.count(\"%s%s\" % (a,b)) for b in alpha] for a in alpha]\n",
      "    trans_probs = np.array([np.array(x, dtype=float)/sum(x) for x in trans_counts])\n",
      "    return (start_probs, trans_probs)\n",
      "\n",
      "start_probs, trans_probs = get_probabilities(words, clf.classifier.classes_)"
     ],
     "language": "python",
     "metadata": {},
     "outputs": [],
     "prompt_number": 164
    },
    {
     "cell_type": "code",
     "collapsed": false,
     "input": [
      "class Viterbi():\n",
      "    def __init__(self, start_probs, trans_probs):\n",
      "        self.trans_probs = np.array(trans_probs)\n",
      "        \n",
      "        # viterbi [t,i] is [probability of being at state i at time t | observations up to t, most likely previous state]\n",
      "        # -1 indicates no previous state\n",
      "        # t=1 indicates the first observation; t=0 indicates start probabilities\n",
      "        self.viterbi = [[[x,-1] for x in start_probs]]\n",
      "    \n",
      "    def observe(self, obs_probs):\n",
      "        # obs_props[i] == P(i|obs)\n",
      "        next_probs = [[0,-1]] * len(self.viterbi[-1])\n",
      "        \n",
      "        for i, (prob_at, _) in enumerate(self.viterbi[-1]):\n",
      "            for j, prob_to in enumerate(self.trans_probs[i,:]):\n",
      "                next_prob = prob_at * prob_to * obs_probs[j]\n",
      "                if next_prob > next_probs[j][0]:\n",
      "                    next_probs[j] = [next_prob, i]\n",
      "                    \n",
      "        # normalize\n",
      "        total = sum(x[0] for x in next_probs)\n",
      "        next_probs = [[i/total, j] for (i,j) in next_probs]\n",
      "        \n",
      "        self.viterbi.append(next_probs)\n",
      "        \n",
      "    def best_path(self):\n",
      "        path = []\n",
      "        \n",
      "        # Find the most recent node of the best path\n",
      "        count = -1 + len(self.viterbi)\n",
      "        i = np.argmax([p for (p,prev) in self.viterbi[count]])  # index of class\n",
      "        (prob, prev) = self.viterbi[count][i]\n",
      "        \n",
      "        while prev != -1:\n",
      "            count -= 1\n",
      "            path = [clf.classifier.classes_[i]] + path\n",
      "            \n",
      "            i = prev\n",
      "            (prob, prev) = self.viterbi[count][i]\n",
      "        \n",
      "        return path"
     ],
     "language": "python",
     "metadata": {},
     "outputs": [],
     "prompt_number": 166
    },
    {
     "cell_type": "code",
     "collapsed": false,
     "input": [
      "sentence, seqs = generate_sentence(Y[test], \"IF THIS SENTENCE WERE WRITTEN\")\n",
      "seq = seqs[0]\n",
      "print seq\n",
      "\n",
      "print \"Actual         :\", ' '.join(Y[test[seq]])\n",
      "print \"Old prediction :\", ' '.join(clf.predict(X[test[seq]]))\n",
      "\n",
      "v = Viterbi(start_probs, trans_probs)\n",
      "for obs in clf.predict_proba(X[test[seq]]):\n",
      "    v.observe(obs)\n",
      "\n",
      "print \"With HMM:       \", ' '.join(v.best_path())\n"
     ],
     "language": "python",
     "metadata": {},
     "outputs": [
      {
       "output_type": "stream",
       "stream": "stdout",
       "text": [
        "[159, 136, 512, 192, 181, 436, 428, 72, 339, 500, 53, 340, 2, 71, 544, 64, 445, 71, 532, 443, 158, 499, 521, 78, 339]\n",
        "Actual         : I F T H I S S E N T E N C E W E R E W R I T T E N\n",
        "Old prediction : "
       ]
      },
      {
       "output_type": "stream",
       "stream": "stdout",
       "text": [
        "I F C H C S S E N I E N C D U D R D U R I I I E N\n",
        "With HMM:       "
       ]
      },
      {
       "output_type": "stream",
       "stream": "stdout",
       "text": [
        " H E C H E S S E N I E N C E M E R E P R I T H E N\n"
       ]
      }
     ],
     "prompt_number": 176
    },
    {
     "cell_type": "code",
     "collapsed": false,
     "input": [],
     "language": "python",
     "metadata": {},
     "outputs": [],
     "prompt_number": 158
    },
    {
     "cell_type": "code",
     "collapsed": false,
     "input": [],
     "language": "python",
     "metadata": {},
     "outputs": []
    }
   ],
   "metadata": {}
  }
 ]
}